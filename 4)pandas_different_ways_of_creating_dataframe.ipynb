{
 "cells": [
  {
   "cell_type": "markdown",
   "metadata": {},
   "source": [
    "# <font color=\"purple\"><h3 align=\"center\">Different Ways Of Creating Dataframe</h3></font>"
   ]
  },
  {
   "cell_type": "markdown",
   "metadata": {},
   "source": [
    "## <font color=\"green\">Using csv</h3></font>"
   ]
  },
  {
   "cell_type": "code",
   "execution_count": 21,
   "metadata": {},
   "outputs": [
    {
     "data": {
      "text/html": [
       "<div>\n",
       "<style scoped>\n",
       "    .dataframe tbody tr th:only-of-type {\n",
       "        vertical-align: middle;\n",
       "    }\n",
       "\n",
       "    .dataframe tbody tr th {\n",
       "        vertical-align: top;\n",
       "    }\n",
       "\n",
       "    .dataframe thead th {\n",
       "        text-align: right;\n",
       "    }\n",
       "</style>\n",
       "<table border=\"1\" class=\"dataframe\">\n",
       "  <thead>\n",
       "    <tr style=\"text-align: right;\">\n",
       "      <th></th>\n",
       "      <th>ProductID</th>\n",
       "      <th>ProductName</th>\n",
       "      <th>UnitPrice</th>\n",
       "      <th>UnitsSold</th>\n",
       "      <th>TotalSales</th>\n",
       "    </tr>\n",
       "  </thead>\n",
       "  <tbody>\n",
       "    <tr>\n",
       "      <th>0</th>\n",
       "      <td>101</td>\n",
       "      <td>Keyboard</td>\n",
       "      <td>25.99</td>\n",
       "      <td>120</td>\n",
       "      <td>3118.8</td>\n",
       "    </tr>\n",
       "    <tr>\n",
       "      <th>1</th>\n",
       "      <td>102</td>\n",
       "      <td>Mouse</td>\n",
       "      <td>12.50</td>\n",
       "      <td>200</td>\n",
       "      <td>2500.0</td>\n",
       "    </tr>\n",
       "    <tr>\n",
       "      <th>2</th>\n",
       "      <td>103</td>\n",
       "      <td>Monitor</td>\n",
       "      <td>189.99</td>\n",
       "      <td>50</td>\n",
       "      <td>9499.5</td>\n",
       "    </tr>\n",
       "    <tr>\n",
       "      <th>3</th>\n",
       "      <td>104</td>\n",
       "      <td>Headphones</td>\n",
       "      <td>49.99</td>\n",
       "      <td>80</td>\n",
       "      <td>3999.2</td>\n",
       "    </tr>\n",
       "    <tr>\n",
       "      <th>4</th>\n",
       "      <td>105</td>\n",
       "      <td>Printer</td>\n",
       "      <td>149.99</td>\n",
       "      <td>30</td>\n",
       "      <td>4499.7</td>\n",
       "    </tr>\n",
       "  </tbody>\n",
       "</table>\n",
       "</div>"
      ],
      "text/plain": [
       "   ProductID ProductName  UnitPrice  UnitsSold  TotalSales\n",
       "0        101    Keyboard      25.99        120      3118.8\n",
       "1        102       Mouse      12.50        200      2500.0\n",
       "2        103     Monitor     189.99         50      9499.5\n",
       "3        104  Headphones      49.99         80      3999.2\n",
       "4        105     Printer     149.99         30      4499.7"
      ]
     },
     "execution_count": 21,
     "metadata": {},
     "output_type": "execute_result"
    }
   ],
   "source": [
    "#create data as csv\n",
    "import pandas as pd\n",
    "df = pd.read_csv(r\"C:\\Users\\kirol\\OneDrive\\Desktop\\sales_data(csv).csv\")\n",
    "df"
   ]
  },
  {
   "cell_type": "markdown",
   "metadata": {
    "collapsed": true
   },
   "source": [
    "## <font color=\"green\">Using excel</h3></font>"
   ]
  },
  {
   "cell_type": "code",
   "execution_count": 20,
   "metadata": {},
   "outputs": [
    {
     "data": {
      "text/html": [
       "<div>\n",
       "<style scoped>\n",
       "    .dataframe tbody tr th:only-of-type {\n",
       "        vertical-align: middle;\n",
       "    }\n",
       "\n",
       "    .dataframe tbody tr th {\n",
       "        vertical-align: top;\n",
       "    }\n",
       "\n",
       "    .dataframe thead th {\n",
       "        text-align: right;\n",
       "    }\n",
       "</style>\n",
       "<table border=\"1\" class=\"dataframe\">\n",
       "  <thead>\n",
       "    <tr style=\"text-align: right;\">\n",
       "      <th></th>\n",
       "      <th>ProductID</th>\n",
       "      <th>ProductName</th>\n",
       "      <th>UnitPrice</th>\n",
       "      <th>UnitsSold</th>\n",
       "      <th>TotalSales</th>\n",
       "    </tr>\n",
       "  </thead>\n",
       "  <tbody>\n",
       "    <tr>\n",
       "      <th>0</th>\n",
       "      <td>101</td>\n",
       "      <td>Keyboard</td>\n",
       "      <td>25.99</td>\n",
       "      <td>120</td>\n",
       "      <td>3118.8</td>\n",
       "    </tr>\n",
       "    <tr>\n",
       "      <th>1</th>\n",
       "      <td>102</td>\n",
       "      <td>Mouse</td>\n",
       "      <td>12.50</td>\n",
       "      <td>200</td>\n",
       "      <td>2500.0</td>\n",
       "    </tr>\n",
       "    <tr>\n",
       "      <th>2</th>\n",
       "      <td>103</td>\n",
       "      <td>Monitor</td>\n",
       "      <td>189.99</td>\n",
       "      <td>50</td>\n",
       "      <td>9499.5</td>\n",
       "    </tr>\n",
       "    <tr>\n",
       "      <th>3</th>\n",
       "      <td>104</td>\n",
       "      <td>Headphones</td>\n",
       "      <td>49.99</td>\n",
       "      <td>80</td>\n",
       "      <td>3999.2</td>\n",
       "    </tr>\n",
       "    <tr>\n",
       "      <th>4</th>\n",
       "      <td>105</td>\n",
       "      <td>Printer</td>\n",
       "      <td>149.99</td>\n",
       "      <td>30</td>\n",
       "      <td>4499.7</td>\n",
       "    </tr>\n",
       "  </tbody>\n",
       "</table>\n",
       "</div>"
      ],
      "text/plain": [
       "   ProductID ProductName  UnitPrice  UnitsSold  TotalSales\n",
       "0        101    Keyboard      25.99        120      3118.8\n",
       "1        102       Mouse      12.50        200      2500.0\n",
       "2        103     Monitor     189.99         50      9499.5\n",
       "3        104  Headphones      49.99         80      3999.2\n",
       "4        105     Printer     149.99         30      4499.7"
      ]
     },
     "execution_count": 20,
     "metadata": {},
     "output_type": "execute_result"
    }
   ],
   "source": [
    "import pandas as pd\n",
    "\n",
    "# Use pd.read_excel() to read the Excel file\n",
    "df = pd.read_excel(r\"C:\\Users\\kirol\\OneDrive\\Desktop\\sales_data2.xlsx\")\n",
    "df"
   ]
  },
  {
   "cell_type": "markdown",
   "metadata": {},
   "source": [
    "## <font color=\"green\">Using dictionary</h3></font>"
   ]
  },
  {
   "cell_type": "code",
   "execution_count": 4,
   "metadata": {
    "ExecuteTime": {
     "end_time": "2022-02-25T12:08:16.921456Z",
     "start_time": "2022-02-25T12:08:16.905456Z"
    },
    "scrolled": true
   },
   "outputs": [
    {
     "data": {
      "text/html": [
       "<div>\n",
       "<style scoped>\n",
       "    .dataframe tbody tr th:only-of-type {\n",
       "        vertical-align: middle;\n",
       "    }\n",
       "\n",
       "    .dataframe tbody tr th {\n",
       "        vertical-align: top;\n",
       "    }\n",
       "\n",
       "    .dataframe thead th {\n",
       "        text-align: right;\n",
       "    }\n",
       "</style>\n",
       "<table border=\"1\" class=\"dataframe\">\n",
       "  <thead>\n",
       "    <tr style=\"text-align: right;\">\n",
       "      <th></th>\n",
       "      <th>ProductID</th>\n",
       "      <th>ProductName</th>\n",
       "      <th>UnitPrice</th>\n",
       "      <th>UnitsSold</th>\n",
       "      <th>TotalSales</th>\n",
       "    </tr>\n",
       "  </thead>\n",
       "  <tbody>\n",
       "    <tr>\n",
       "      <th>0</th>\n",
       "      <td>101</td>\n",
       "      <td>Keyboard</td>\n",
       "      <td>25.99</td>\n",
       "      <td>120</td>\n",
       "      <td>3118.8</td>\n",
       "    </tr>\n",
       "    <tr>\n",
       "      <th>1</th>\n",
       "      <td>102</td>\n",
       "      <td>Mouse</td>\n",
       "      <td>12.50</td>\n",
       "      <td>200</td>\n",
       "      <td>2500.0</td>\n",
       "    </tr>\n",
       "    <tr>\n",
       "      <th>2</th>\n",
       "      <td>103</td>\n",
       "      <td>Monitor</td>\n",
       "      <td>189.99</td>\n",
       "      <td>50</td>\n",
       "      <td>9499.5</td>\n",
       "    </tr>\n",
       "    <tr>\n",
       "      <th>3</th>\n",
       "      <td>104</td>\n",
       "      <td>Headphones</td>\n",
       "      <td>49.99</td>\n",
       "      <td>80</td>\n",
       "      <td>3999.2</td>\n",
       "    </tr>\n",
       "    <tr>\n",
       "      <th>4</th>\n",
       "      <td>105</td>\n",
       "      <td>Printer</td>\n",
       "      <td>149.99</td>\n",
       "      <td>30</td>\n",
       "      <td>4499.7</td>\n",
       "    </tr>\n",
       "  </tbody>\n",
       "</table>\n",
       "</div>"
      ],
      "text/plain": [
       "   ProductID ProductName  UnitPrice  UnitsSold  TotalSales\n",
       "0        101    Keyboard      25.99        120      3118.8\n",
       "1        102       Mouse      12.50        200      2500.0\n",
       "2        103     Monitor     189.99         50      9499.5\n",
       "3        104  Headphones      49.99         80      3999.2\n",
       "4        105     Printer     149.99         30      4499.7"
      ]
     },
     "execution_count": 4,
     "metadata": {},
     "output_type": "execute_result"
    }
   ],
   "source": [
    "# Creating a dictionary with sales data\n",
    "sales_data = {\n",
    "    'ProductID': [101, 102, 103, 104, 105],\n",
    "    'ProductName': ['Keyboard', 'Mouse', 'Monitor', 'Headphones', 'Printer'],\n",
    "    'UnitPrice': [25.99, 12.50, 189.99, 49.99, 149.99],\n",
    "    'UnitsSold': [120, 200, 50, 80, 30],\n",
    "    'TotalSales': [3118.80, 2500.00, 9499.50, 3999.20, 4499.70]\n",
    "}\n",
    "\n",
    "# Creating a DataFrame using the sales data\n",
    "sales_df = pd.DataFrame(sales_data)\n",
    "sales_df"
   ]
  },
  {
   "cell_type": "markdown",
   "metadata": {},
   "source": [
    "## <font color=\"green\">Using tuples list</h3></font>"
   ]
  },
  {
   "cell_type": "code",
   "execution_count": 6,
   "metadata": {
    "ExecuteTime": {
     "end_time": "2022-02-25T12:09:08.832966Z",
     "start_time": "2022-02-25T12:09:08.815967Z"
    }
   },
   "outputs": [
    {
     "data": {
      "text/html": [
       "<div>\n",
       "<style scoped>\n",
       "    .dataframe tbody tr th:only-of-type {\n",
       "        vertical-align: middle;\n",
       "    }\n",
       "\n",
       "    .dataframe tbody tr th {\n",
       "        vertical-align: top;\n",
       "    }\n",
       "\n",
       "    .dataframe thead th {\n",
       "        text-align: right;\n",
       "    }\n",
       "</style>\n",
       "<table border=\"1\" class=\"dataframe\">\n",
       "  <thead>\n",
       "    <tr style=\"text-align: right;\">\n",
       "      <th></th>\n",
       "      <th>ProductID</th>\n",
       "      <th>ProductName</th>\n",
       "      <th>UnitPrice</th>\n",
       "      <th>UnitsSold</th>\n",
       "      <th>TotalSales</th>\n",
       "    </tr>\n",
       "  </thead>\n",
       "  <tbody>\n",
       "    <tr>\n",
       "      <th>0</th>\n",
       "      <td>101</td>\n",
       "      <td>Keyboard</td>\n",
       "      <td>25.99</td>\n",
       "      <td>120</td>\n",
       "      <td>3118.8</td>\n",
       "    </tr>\n",
       "    <tr>\n",
       "      <th>1</th>\n",
       "      <td>102</td>\n",
       "      <td>Mouse</td>\n",
       "      <td>12.50</td>\n",
       "      <td>200</td>\n",
       "      <td>2500.0</td>\n",
       "    </tr>\n",
       "    <tr>\n",
       "      <th>2</th>\n",
       "      <td>103</td>\n",
       "      <td>Monitor</td>\n",
       "      <td>189.99</td>\n",
       "      <td>50</td>\n",
       "      <td>9499.5</td>\n",
       "    </tr>\n",
       "    <tr>\n",
       "      <th>3</th>\n",
       "      <td>104</td>\n",
       "      <td>Headphones</td>\n",
       "      <td>49.99</td>\n",
       "      <td>80</td>\n",
       "      <td>3999.2</td>\n",
       "    </tr>\n",
       "    <tr>\n",
       "      <th>4</th>\n",
       "      <td>105</td>\n",
       "      <td>Printer</td>\n",
       "      <td>149.99</td>\n",
       "      <td>30</td>\n",
       "      <td>4499.7</td>\n",
       "    </tr>\n",
       "  </tbody>\n",
       "</table>\n",
       "</div>"
      ],
      "text/plain": [
       "   ProductID ProductName  UnitPrice  UnitsSold  TotalSales\n",
       "0        101    Keyboard      25.99        120      3118.8\n",
       "1        102       Mouse      12.50        200      2500.0\n",
       "2        103     Monitor     189.99         50      9499.5\n",
       "3        104  Headphones      49.99         80      3999.2\n",
       "4        105     Printer     149.99         30      4499.7"
      ]
     },
     "execution_count": 6,
     "metadata": {},
     "output_type": "execute_result"
    }
   ],
   "source": [
    "# Creating sales data as a list of tuples\n",
    "sales_data = [\n",
    "    (101, 'Keyboard', 25.99, 120, 3118.80),\n",
    "    (102, 'Mouse', 12.50, 200, 2500.00),\n",
    "    (103, 'Monitor', 189.99, 50, 9499.50),\n",
    "    (104, 'Headphones', 49.99, 80, 3999.20),\n",
    "    (105, 'Printer', 149.99, 30, 4499.70)\n",
    "]\n",
    "\n",
    "# Defining column names for the sales data\n",
    "columns = ['ProductID', 'ProductName', 'UnitPrice', 'UnitsSold', 'TotalSales']\n",
    "\n",
    "# Creating a DataFrame using the sales data and specified columns\n",
    "sales_df = pd.DataFrame(data=sales_data, columns=columns)\n",
    "sales_df"
   ]
  },
  {
   "cell_type": "markdown",
   "metadata": {},
   "source": [
    "## <font color=\"green\">Using list of dictionaries</h3></font>"
   ]
  },
  {
   "cell_type": "code",
   "execution_count": 7,
   "metadata": {
    "ExecuteTime": {
     "end_time": "2022-02-15T19:04:57.810525Z",
     "start_time": "2022-02-15T19:04:57.790509Z"
    }
   },
   "outputs": [
    {
     "data": {
      "text/html": [
       "<div>\n",
       "<style scoped>\n",
       "    .dataframe tbody tr th:only-of-type {\n",
       "        vertical-align: middle;\n",
       "    }\n",
       "\n",
       "    .dataframe tbody tr th {\n",
       "        vertical-align: top;\n",
       "    }\n",
       "\n",
       "    .dataframe thead th {\n",
       "        text-align: right;\n",
       "    }\n",
       "</style>\n",
       "<table border=\"1\" class=\"dataframe\">\n",
       "  <thead>\n",
       "    <tr style=\"text-align: right;\">\n",
       "      <th></th>\n",
       "      <th>ProductID</th>\n",
       "      <th>ProductName</th>\n",
       "      <th>UnitPrice</th>\n",
       "      <th>UnitsSold</th>\n",
       "      <th>TotalSales</th>\n",
       "    </tr>\n",
       "  </thead>\n",
       "  <tbody>\n",
       "    <tr>\n",
       "      <th>0</th>\n",
       "      <td>101</td>\n",
       "      <td>Keyboard</td>\n",
       "      <td>25.99</td>\n",
       "      <td>120</td>\n",
       "      <td>3118.8</td>\n",
       "    </tr>\n",
       "    <tr>\n",
       "      <th>1</th>\n",
       "      <td>102</td>\n",
       "      <td>Mouse</td>\n",
       "      <td>12.50</td>\n",
       "      <td>200</td>\n",
       "      <td>2500.0</td>\n",
       "    </tr>\n",
       "    <tr>\n",
       "      <th>2</th>\n",
       "      <td>103</td>\n",
       "      <td>Monitor</td>\n",
       "      <td>189.99</td>\n",
       "      <td>50</td>\n",
       "      <td>9499.5</td>\n",
       "    </tr>\n",
       "    <tr>\n",
       "      <th>3</th>\n",
       "      <td>104</td>\n",
       "      <td>Headphones</td>\n",
       "      <td>49.99</td>\n",
       "      <td>80</td>\n",
       "      <td>3999.2</td>\n",
       "    </tr>\n",
       "    <tr>\n",
       "      <th>4</th>\n",
       "      <td>105</td>\n",
       "      <td>Printer</td>\n",
       "      <td>149.99</td>\n",
       "      <td>30</td>\n",
       "      <td>4499.7</td>\n",
       "    </tr>\n",
       "  </tbody>\n",
       "</table>\n",
       "</div>"
      ],
      "text/plain": [
       "   ProductID ProductName  UnitPrice  UnitsSold  TotalSales\n",
       "0        101    Keyboard      25.99        120      3118.8\n",
       "1        102       Mouse      12.50        200      2500.0\n",
       "2        103     Monitor     189.99         50      9499.5\n",
       "3        104  Headphones      49.99         80      3999.2\n",
       "4        105     Printer     149.99         30      4499.7"
      ]
     },
     "execution_count": 7,
     "metadata": {},
     "output_type": "execute_result"
    }
   ],
   "source": [
    "\n",
    "# Sales data as a list of dictionaries\n",
    "sales_data = [\n",
    "    {'ProductID': 101, 'ProductName': 'Keyboard', 'UnitPrice': 25.99, 'UnitsSold': 120, 'TotalSales': 3118.80},\n",
    "    {'ProductID': 102, 'ProductName': 'Mouse', 'UnitPrice': 12.50, 'UnitsSold': 200, 'TotalSales': 2500.00},\n",
    "    {'ProductID': 103, 'ProductName': 'Monitor', 'UnitPrice': 189.99, 'UnitsSold': 50, 'TotalSales': 9499.50},\n",
    "    {'ProductID': 104, 'ProductName': 'Headphones', 'UnitPrice': 49.99, 'UnitsSold': 80, 'TotalSales': 3999.20},\n",
    "    {'ProductID': 105, 'ProductName': 'Printer', 'UnitPrice': 149.99, 'UnitsSold': 30, 'TotalSales': 4499.70}\n",
    "]\n",
    "\n",
    "# Defining column names for the sales data\n",
    "columns = ['ProductID', 'ProductName', 'UnitPrice', 'UnitsSold', 'TotalSales']\n",
    "\n",
    "# Creating a DataFrame using the sales data and specified columns\n",
    "sales_df = pd.DataFrame(data=sales_data, columns=columns)\n",
    "sales_df"
   ]
  },
  {
   "cell_type": "code",
   "execution_count": null,
   "metadata": {},
   "outputs": [],
   "source": []
  }
 ],
 "metadata": {
  "anaconda-cloud": {},
  "kernelspec": {
   "display_name": "Python 3 (ipykernel)",
   "language": "python",
   "name": "python3"
  },
  "language_info": {
   "codemirror_mode": {
    "name": "ipython",
    "version": 3
   },
   "file_extension": ".py",
   "mimetype": "text/x-python",
   "name": "python",
   "nbconvert_exporter": "python",
   "pygments_lexer": "ipython3",
   "version": "3.11.4"
  },
  "toc": {
   "base_numbering": 1,
   "nav_menu": {},
   "number_sections": true,
   "sideBar": true,
   "skip_h1_title": false,
   "title_cell": "Table of Contents",
   "title_sidebar": "Contents",
   "toc_cell": false,
   "toc_position": {},
   "toc_section_display": true,
   "toc_window_display": false
  },
  "varInspector": {
   "cols": {
    "lenName": 16,
    "lenType": 16,
    "lenVar": 40
   },
   "kernels_config": {
    "python": {
     "delete_cmd_postfix": "",
     "delete_cmd_prefix": "del ",
     "library": "var_list.py",
     "varRefreshCmd": "print(var_dic_list())"
    },
    "r": {
     "delete_cmd_postfix": ") ",
     "delete_cmd_prefix": "rm(",
     "library": "var_list.r",
     "varRefreshCmd": "cat(var_dic_list()) "
    }
   },
   "types_to_exclude": [
    "module",
    "function",
    "builtin_function_or_method",
    "instance",
    "_Feature"
   ],
   "window_display": false
  }
 },
 "nbformat": 4,
 "nbformat_minor": 1
}
